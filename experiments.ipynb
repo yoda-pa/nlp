{
 "cells": [
  {
   "cell_type": "code",
   "execution_count": 1,
   "metadata": {},
   "outputs": [],
   "source": [
    "from textblob import TextBlob"
   ]
  },
  {
   "cell_type": "code",
   "execution_count": 2,
   "metadata": {},
   "outputs": [],
   "source": [
    "train = [\n",
    "    ('Spent 20 dollars on shoes', 'pos'),\n",
    "    ('I bought a product that amounted to just 10 rupees!', 'pos'),\n",
    "    ('I spent sgd 30 on food yesterday', 'pos'),\n",
    "    ('I like food so I got some', 'neg'),\n",
    "    ('I got some food', 'neg'),\n",
    "    ('I got some belts for 200 rupees', 'pos')\n",
    "]\n",
    "test = [\n",
    "    ('I bought several rice for rupees 300', 'pos'),\n",
    "    ('I bought several rice at a low price', 'neg'),\n",
    "    ('food is good', 'neg'),\n",
    "    ('wheat is nice sometimes', 'neg'),\n",
    "    ('I like food so I got some', 'neg'),\n",
    "    ('last night I spent sgd 30 on booze', 'pos'),\n",
    "    ('I bought some things that amounted to 10 rupees!', 'pos')\n",
    "]"
   ]
  },
  {
   "cell_type": "code",
   "execution_count": 3,
   "metadata": {},
   "outputs": [],
   "source": [
    "from textblob.classifiers import NaiveBayesClassifier\n",
    "moneyClassifier = NaiveBayesClassifier(train)"
   ]
  },
  {
   "cell_type": "code",
   "execution_count": 6,
   "metadata": {},
   "outputs": [
    {
     "data": {
      "text/plain": [
       "0.7142857142857143"
      ]
     },
     "execution_count": 6,
     "metadata": {},
     "output_type": "execute_result"
    }
   ],
   "source": [
    "moneyClassifier.accuracy(test)"
   ]
  },
  {
   "cell_type": "code",
   "execution_count": 7,
   "metadata": {},
   "outputs": [
    {
     "name": "stdout",
     "output_type": "stream",
     "text": [
      "Most Informative Features\n          contains(some) = True              neg : pos    =      2.8 : 1.0\n          contains(food) = True              neg : pos    =      2.8 : 1.0\n           contains(got) = True              neg : pos    =      2.8 : 1.0\n            contains(so) = False             pos : neg    =      1.8 : 1.0\n          contains(like) = False             pos : neg    =      1.8 : 1.0\n        contains(rupees) = False             neg : pos    =      1.7 : 1.0\n            contains(on) = False             neg : pos    =      1.7 : 1.0\n          contains(that) = False             neg : pos    =      1.2 : 1.0\n         contains(belts) = False             neg : pos    =      1.2 : 1.0\n       contains(product) = False             neg : pos    =      1.2 : 1.0\n"
     ]
    }
   ],
   "source": [
    "moneyClassifier.show_informative_features(10)"
   ]
  },
  {
   "cell_type": "code",
   "execution_count": 8,
   "metadata": {},
   "outputs": [
    {
     "name": "stdout",
     "output_type": "stream",
     "text": [
      "pos\npos\npos\npos\npos\npos\npos\n"
     ]
    }
   ],
   "source": [
    "for t in test:\n",
    "    print(moneyClassifier.classify(t))"
   ]
  }
 ],
 "metadata": {
  "kernelspec": {
   "display_name": "Python 2",
   "language": "python",
   "name": "python2"
  },
  "language_info": {
   "codemirror_mode": {
    "name": "ipython",
    "version": 2
   },
   "file_extension": ".py",
   "mimetype": "text/x-python",
   "name": "python",
   "nbconvert_exporter": "python",
   "pygments_lexer": "ipython2",
   "version": "2.7.6"
  }
 },
 "nbformat": 4,
 "nbformat_minor": 0
}
